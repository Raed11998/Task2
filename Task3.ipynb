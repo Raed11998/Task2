{
  "nbformat": 4,
  "nbformat_minor": 0,
  "metadata": {
    "colab": {
      "provenance": [],
      "authorship_tag": "ABX9TyMCGyIn5JBlm+lakYjkA8cc",
      "include_colab_link": true
    },
    "kernelspec": {
      "name": "python3",
      "display_name": "Python 3"
    },
    "language_info": {
      "name": "python"
    }
  },
  "cells": [
    {
      "cell_type": "markdown",
      "metadata": {
        "id": "view-in-github",
        "colab_type": "text"
      },
      "source": [
        "<a href=\"https://colab.research.google.com/github/Raed11998/Task2/blob/main/Task3.ipynb\" target=\"_parent\"><img src=\"https://colab.research.google.com/assets/colab-badge.svg\" alt=\"Open In Colab\"/></a>"
      ]
    },
    {
      "cell_type": "code",
      "source": [
        "\n",
        "\n",
        "import pandas as pd\n",
        "import numpy as np\n",
        "\n",
        "# تحميل البيانات\n",
        "file_path = '/content/General_Education_School.csv'\n",
        "data = pd.read_csv(file_path)\n",
        "print(data.shape)\n",
        "print(data.info())\n",
        "print(data.head(10))\n",
        "# 1. التحليل الأولي (Exploratory Data Analysis)\n",
        "# حساب عدد المدارس المشاركة\n",
        "num_schools = data['DBN'].nunique()"
      ],
      "metadata": {
        "id": "BhFYeP0U5-Lh",
        "collapsed": true,
        "outputId": "95c5531a-b5b6-4b59-d4cc-4a7a2128f95f",
        "colab": {
          "base_uri": "https://localhost:8080/"
        }
      },
      "execution_count": 60,
      "outputs": [
        {
          "output_type": "stream",
          "name": "stdout",
          "text": [
            "(1671, 10)\n",
            "<class 'pandas.core.frame.DataFrame'>\n",
            "RangeIndex: 1671 entries, 0 to 1670\n",
            "Data columns (total 10 columns):\n",
            " #   Column                             Non-Null Count  Dtype \n",
            "---  ------                             --------------  ----- \n",
            " 0   DBN                                1671 non-null   object\n",
            " 1   School Name                        1671 non-null   object\n",
            " 2   School Type                        1670 non-null   object\n",
            " 3   Parent Response Rate               1671 non-null   object\n",
            " 4   Teacher Response Rate              1671 non-null   object\n",
            " 5   Student Response Rate              996 non-null    object\n",
            " 6   Total Safety and Respect Score     1671 non-null   object\n",
            " 7   Total Communication Score          1671 non-null   object\n",
            " 8   Total Engagement Score             1671 non-null   object\n",
            " 9   Total Academic Expectations Score  1671 non-null   object\n",
            "dtypes: object(10)\n",
            "memory usage: 130.7+ KB\n",
            "None\n",
            "      DBN                     School Name               School Type  \\\n",
            "0     dbn                    locationname                       NaN   \n",
            "1  01M015       P.S. 015 Roberto Clemente         Elementary School   \n",
            "2  01M019             P.S. 019 Asher Levy         Elementary School   \n",
            "3  01M020            P.S. 020 Anna Silver         Elementary School   \n",
            "4  01M034  P.S. 034 Franklin D. Roosevelt  Elementary/Middle School   \n",
            "5  01M063       P.S. 063 William Mckinley         Elementary School   \n",
            "6  01M064           P.S. 064 Robert Simon         Elementary School   \n",
            "7  01M110   P.S. 110 Florence Nightingale         Elementary School   \n",
            "8  01M134        P.S. 134 Henrietta Szold         Elementary School   \n",
            "9  01M137      P.S. 137 John L. Bernstein         Elementary School   \n",
            "\n",
            "  Parent Response Rate Teacher Response Rate Student Response Rate  \\\n",
            "0                 rr_p                  rr_t                  rr_s   \n",
            "1                  61%                   92%                   NaN   \n",
            "2                  92%                   94%                   NaN   \n",
            "3                  88%                   73%                   NaN   \n",
            "4                  39%                   58%                   96%   \n",
            "5                  58%                  100%                   NaN   \n",
            "6                  50%                   94%                   NaN   \n",
            "7                  83%                   79%                   NaN   \n",
            "8                  49%                   55%                   NaN   \n",
            "9                  66%                   82%                   NaN   \n",
            "\n",
            "  Total Safety and Respect Score Total Communication Score  \\\n",
            "0                     saf_tot_12                com_tot_12   \n",
            "1                            8.4                       8.2   \n",
            "2                            8.4                         8   \n",
            "3                            8.5                       7.8   \n",
            "4                            7.3                       6.9   \n",
            "5                            8.5                       7.4   \n",
            "6                            8.6                       7.9   \n",
            "7                            7.6                       6.9   \n",
            "8                            7.7                         7   \n",
            "9                            7.3                       6.6   \n",
            "\n",
            "  Total Engagement Score Total Academic Expectations Score  \n",
            "0             eng_tot_12                        aca_tot_12  \n",
            "1                    8.3                               8.2  \n",
            "2                      8                               8.2  \n",
            "3                    8.2                               8.2  \n",
            "4                    7.3                               7.7  \n",
            "5                    7.6                               7.8  \n",
            "6                    8.1                               8.2  \n",
            "7                      7                               7.4  \n",
            "8                    7.5                               7.4  \n",
            "9                    6.7                               7.1  \n"
          ]
        }
      ]
    },
    {
      "cell_type": "code",
      "source": [
        "\n",
        "# استخراج أنواع المدارس المختلفة\n",
        "school_types = data['School Type'].unique()\n",
        "\n",
        "# تصفية القيم الغير صالحة قبل التحويل\n",
        "data['Parent Response Rate'] = pd.to_numeric(data['Parent Response Rate'].str.replace('%', '', regex=False), errors='coerce')\n",
        "data['Teacher Response Rate'] = pd.to_numeric(data['Teacher Response Rate'].str.replace('%', '', regex=False), errors='coerce')\n",
        "data['Student Response Rate'] = pd.to_numeric(data['Student Response Rate'].str.replace('%', '', regex=False), errors='coerce')\n",
        "data['School Name'] = pd.to_numeric(data['School Name'].str.replace('%', '', regex=False), errors='coerce')"
      ],
      "metadata": {
        "id": "bCLSuwSF6O4l"
      },
      "execution_count": 61,
      "outputs": []
    },
    {
      "cell_type": "code",
      "source": [
        "#تحويل درجات الأمان والتواصل إلى أرقام (وإزالة أي نصوص غير صالحة)\n",
        "data['Total Safety and Respect Score'] = pd.to_numeric(data['Total Safety and Respect Score'], errors='coerce')\n",
        "data['Total Communication Score'] = pd.to_numeric(data['Total Communication Score'], errors='coerce')"
      ],
      "metadata": {
        "id": "w6h73n8L6o1B"
      },
      "execution_count": 62,
      "outputs": []
    },
    {
      "cell_type": "code",
      "source": [
        "\n",
        "# حساب المتوسطات لنسب الاستجابة\n",
        "response_avg = data[['Parent Response Rate', 'Teacher Response Rate', 'Student Response Rate']].mean()"
      ],
      "metadata": {
        "id": "8PiP_5gu6tCb"
      },
      "execution_count": 63,
      "outputs": []
    },
    {
      "cell_type": "code",
      "source": [
        "\n",
        "# عرض النتائج الأولية\n",
        "print(data.head(10))\n",
        "print(f'عدد المدارس المشاركة: {num_schools}')\n",
        "print(f'أنواع المدارس الموجودة: {school_types}')\n",
        "print(f'متوسط نسب الاستجابة:\\n{response_avg}')"
      ],
      "metadata": {
        "colab": {
          "base_uri": "https://localhost:8080/"
        },
        "id": "838XkE5j64Oa",
        "outputId": "127658a2-2f3c-4bb4-a83f-5c600261ed8c"
      },
      "execution_count": 73,
      "outputs": [
        {
          "output_type": "stream",
          "name": "stdout",
          "text": [
            "      DBN  School Name               School Type  Parent Response Rate  \\\n",
            "0     dbn          NaN                       NaN                   NaN   \n",
            "1  01M015          NaN         Elementary School                  61.0   \n",
            "2  01M019          NaN         Elementary School                  92.0   \n",
            "3  01M020          NaN         Elementary School                  88.0   \n",
            "4  01M034          NaN  Elementary/Middle School                  39.0   \n",
            "5  01M063          NaN         Elementary School                  58.0   \n",
            "6  01M064          NaN         Elementary School                  50.0   \n",
            "7  01M110          NaN         Elementary School                  83.0   \n",
            "8  01M134          NaN         Elementary School                  49.0   \n",
            "9  01M137          NaN         Elementary School                  66.0   \n",
            "\n",
            "   Teacher Response Rate  Student Response Rate  \\\n",
            "0                    NaN                    NaN   \n",
            "1                   92.0                    NaN   \n",
            "2                   94.0                    NaN   \n",
            "3                   73.0                    NaN   \n",
            "4                   58.0                   96.0   \n",
            "5                  100.0                    NaN   \n",
            "6                   94.0                    NaN   \n",
            "7                   79.0                    NaN   \n",
            "8                   55.0                    NaN   \n",
            "9                   82.0                    NaN   \n",
            "\n",
            "   Total Safety and Respect Score  Total Communication Score  \\\n",
            "0                             NaN                        NaN   \n",
            "1                             8.4                        8.2   \n",
            "2                             8.4                        8.0   \n",
            "3                             8.5                        7.8   \n",
            "4                             7.3                        6.9   \n",
            "5                             8.5                        7.4   \n",
            "6                             8.6                        7.9   \n",
            "7                             7.6                        6.9   \n",
            "8                             7.7                        7.0   \n",
            "9                             7.3                        6.6   \n",
            "\n",
            "  Total Engagement Score Total Academic Expectations Score  \n",
            "0             eng_tot_12                        aca_tot_12  \n",
            "1                    8.3                               8.2  \n",
            "2                      8                               8.2  \n",
            "3                    8.2                               8.2  \n",
            "4                    7.3                               7.7  \n",
            "5                    7.6                               7.8  \n",
            "6                    8.1                               8.2  \n",
            "7                      7                               7.4  \n",
            "8                    7.5                               7.4  \n",
            "9                    6.7                               7.1  \n",
            "عدد المدارس المشاركة: 1668\n",
            "أنواع المدارس الموجودة: [nan 'Elementary School' 'Elementary/Middle School' 'Middle/High School'\n",
            " 'Middle School' 'High School' 'Transfer High School'\n",
            " 'Elementary/Middle/High School' 'Early Childhood School' 'YABC']\n",
            "متوسط نسب الاستجابة:\n",
            "Parent Response Rate     56.365269\n",
            "Teacher Response Rate    83.410180\n",
            "Student Response Rate    84.544724\n",
            "dtype: float64\n"
          ]
        }
      ]
    },
    {
      "cell_type": "code",
      "source": [
        "\n",
        "# 2. نظافة البيانات (Data Cleaning)\n",
        "# التحقق من القيم المفقودة في البيانات\n",
        "missing_values = data.isnull().sum()\n",
        "print(f'القيم المفقودة:\\n{missing_values}')"
      ],
      "metadata": {
        "colab": {
          "base_uri": "https://localhost:8080/"
        },
        "id": "Xn9qwtew7KhZ",
        "outputId": "05b52376-2940-4402-ff6c-0d9386ded8eb"
      },
      "execution_count": 65,
      "outputs": [
        {
          "output_type": "stream",
          "name": "stdout",
          "text": [
            "القيم المفقودة:\n",
            "DBN                                     0\n",
            "School Name                          1671\n",
            "School Type                             1\n",
            "Parent Response Rate                    1\n",
            "Teacher Response Rate                   1\n",
            "Student Response Rate                 676\n",
            "Total Safety and Respect Score          1\n",
            "Total Communication Score               1\n",
            "Total Engagement Score                  0\n",
            "Total Academic Expectations Score       0\n",
            "dtype: int64\n"
          ]
        }
      ]
    },
    {
      "cell_type": "code",
      "source": [
        "\n",
        "# حذف الأعمدة الغير ضرورية (مثل DBN )\n",
        "data_cleaned = data.drop(columns=['DBN'])"
      ],
      "metadata": {
        "id": "JGhTJZTC7Rj5"
      },
      "execution_count": 66,
      "outputs": []
    },
    {
      "cell_type": "code",
      "source": [
        "\n",
        "# التعامل مع القيم المفقودة (حذف الصفوف التي تحتوي على قيم مفقودة)\n",
        "data_cleaned = data_cleaned.dropna()"
      ],
      "metadata": {
        "id": "XpzVqYwJ7bqb"
      },
      "execution_count": 67,
      "outputs": []
    },
    {
      "cell_type": "code",
      "source": [
        "\n",
        "# عرض الأعمدة بعد التنظيف\n",
        "print(f'الأعمدة بعد التنظيف:\\n{data_cleaned.columns}')"
      ],
      "metadata": {
        "colab": {
          "base_uri": "https://localhost:8080/"
        },
        "id": "WfdT0JkY7kcr",
        "outputId": "71cdba6e-c0f0-485f-822a-51026dd62f57"
      },
      "execution_count": 78,
      "outputs": [
        {
          "output_type": "stream",
          "name": "stdout",
          "text": [
            "الأعمدة بعد التنظيف:\n",
            "Index(['School Name', 'School Type', 'Parent Response Rate',\n",
            "       'Teacher Response Rate', 'Student Response Rate',\n",
            "       'Total Safety and Respect Score', 'Total Communication Score',\n",
            "       'Total Engagement Score', 'Total Academic Expectations Score'],\n",
            "      dtype='object')\n"
          ]
        }
      ]
    },
    {
      "cell_type": "code",
      "source": [
        "print(data_cleaned.head(10))"
      ],
      "metadata": {
        "colab": {
          "base_uri": "https://localhost:8080/"
        },
        "id": "K0b-NCgSP_0t",
        "outputId": "5644d12f-3ca4-40d1-bae3-cbb412102ae3"
      },
      "execution_count": 77,
      "outputs": [
        {
          "output_type": "stream",
          "name": "stdout",
          "text": [
            "Empty DataFrame\n",
            "Columns: [School Name, School Type, Parent Response Rate, Teacher Response Rate, Student Response Rate, Total Safety and Respect Score, Total Communication Score, Total Engagement Score, Total Academic Expectations Score]\n",
            "Index: []\n"
          ]
        }
      ]
    },
    {
      "cell_type": "code",
      "source": [
        "\n",
        "# 3. التحليل العميق (Deep Dive)\n",
        "# حساب العلاقة بين نسبة استجابة الأهل ودرجات الأمان والتواصل\n",
        "correlation = data_cleaned[['Parent Response Rate', 'Total Safety and Respect Score', 'Total Communication Score']].corr()\n",
        "print(f'العلاقة بين استجابة الأهل والأمان والتواصل:\\n{correlation}')"
      ],
      "metadata": {
        "colab": {
          "base_uri": "https://localhost:8080/"
        },
        "id": "BE3L2Om477oD",
        "outputId": "5d44f9fa-7aa5-45b4-f7e4-053cb9fc1176"
      },
      "execution_count": 69,
      "outputs": [
        {
          "output_type": "stream",
          "name": "stdout",
          "text": [
            "العلاقة بين استجابة الأهل والأمان والتواصل:\n",
            "                                Parent Response Rate  \\\n",
            "Parent Response Rate                             NaN   \n",
            "Total Safety and Respect Score                   NaN   \n",
            "Total Communication Score                        NaN   \n",
            "\n",
            "                                Total Safety and Respect Score  \\\n",
            "Parent Response Rate                                       NaN   \n",
            "Total Safety and Respect Score                             NaN   \n",
            "Total Communication Score                                  NaN   \n",
            "\n",
            "                                Total Communication Score  \n",
            "Parent Response Rate                                  NaN  \n",
            "Total Safety and Respect Score                        NaN  \n",
            "Total Communication Score                             NaN  \n"
          ]
        }
      ]
    },
    {
      "cell_type": "code",
      "source": [
        "\n",
        "# العثور على المدارس ذات الدرجات الاستثنائية (أعلى من 9 أو أقل من 5)\n",
        "outlier_schools = data_cleaned[(data_cleaned['Total Safety and Respect Score'] > 9) | (data_cleaned['Total Safety and Respect Score'] < 5)]\n",
        "print(f'المدارس الاستثنائية (الدرجات العليا أو السفلى):\\n{outlier_schools}')"
      ],
      "metadata": {
        "colab": {
          "base_uri": "https://localhost:8080/"
        },
        "id": "NJ0vFO0d8DnO",
        "outputId": "d294e125-d8fc-446a-be2d-ea89e3b62abc"
      },
      "execution_count": 71,
      "outputs": [
        {
          "output_type": "stream",
          "name": "stdout",
          "text": [
            "المدارس الاستثنائية (الدرجات العليا أو السفلى):\n",
            "Empty DataFrame\n",
            "Columns: [School Name, School Type, Parent Response Rate, Teacher Response Rate, Student Response Rate, Total Safety and Respect Score, Total Communication Score, Total Engagement Score, Total Academic Expectations Score]\n",
            "Index: []\n"
          ]
        }
      ]
    },
    {
      "cell_type": "code",
      "source": [
        "\n",
        "# 4. التوصيات (Recommendations)\n",
        "# بناءً على التحليل، يمكن تقديم التوصيات\n",
        "# على سبيل المثال، إذا كانت المدارس التي تحصل على درجات أقل في الأمان يجب تعزيز هذا المجال.\n",
        "\n",
        "# مثال على التوصية:\n",
        "if data_cleaned['Total Safety and Respect Score'].mean() < 7:\n",
        "    print(\"توصية: يجب تحسين إجراءات الأمان في العديد من المدارس.\")\n",
        "else:\n",
        "    print(\"توصية: إجراءات الأمان في المدارس جيدة بشكل عام.\")"
      ],
      "metadata": {
        "colab": {
          "base_uri": "https://localhost:8080/"
        },
        "id": "4NrHZUmc8KpQ",
        "outputId": "a3bf8317-0a64-447a-aedb-1413c4b88a85"
      },
      "execution_count": 72,
      "outputs": [
        {
          "output_type": "stream",
          "name": "stdout",
          "text": [
            "توصية: إجراءات الأمان في المدارس جيدة بشكل عام.\n"
          ]
        }
      ]
    }
  ]
}