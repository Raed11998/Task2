{
  "nbformat": 4,
  "nbformat_minor": 0,
  "metadata": {
    "colab": {
      "provenance": [],
      "authorship_tag": "ABX9TyMaAv8Rc0i51ZhSeqNaNYeC",
      "include_colab_link": true
    },
    "kernelspec": {
      "name": "python3",
      "display_name": "Python 3"
    },
    "language_info": {
      "name": "python"
    }
  },
  "cells": [
    {
      "cell_type": "markdown",
      "metadata": {
        "id": "view-in-github",
        "colab_type": "text"
      },
      "source": [
        "<a href=\"https://colab.research.google.com/github/Raed11998/Task2/blob/main/Task2.ipynb\" target=\"_parent\"><img src=\"https://colab.research.google.com/assets/colab-badge.svg\" alt=\"Open In Colab\"/></a>"
      ]
    },
    {
      "cell_type": "code",
      "execution_count": 3,
      "metadata": {
        "colab": {
          "base_uri": "https://localhost:8080/"
        },
        "id": "InQfwQaTPfNQ",
        "outputId": "a14dd28b-fdb0-4a35-b0d2-114d51554521",
        "collapsed": true
      },
      "outputs": [
        {
          "output_type": "stream",
          "name": "stdout",
          "text": [
            "Cloning into 'Task2'...\n",
            "remote: Not Found\n",
            "fatal: repository 'https://github.com/Raed11998/Task2/.git/' not found\n",
            "(11914, 16)\n",
            "<class 'pandas.core.frame.DataFrame'>\n",
            "RangeIndex: 11914 entries, 0 to 11913\n",
            "Data columns (total 16 columns):\n",
            " #   Column             Non-Null Count  Dtype  \n",
            "---  ------             --------------  -----  \n",
            " 0   Make               11914 non-null  object \n",
            " 1   Model              11914 non-null  object \n",
            " 2   Year               11914 non-null  int64  \n",
            " 3   Engine Fuel Type   11911 non-null  object \n",
            " 4   Engine HP          11845 non-null  float64\n",
            " 5   Engine Cylinders   11884 non-null  float64\n",
            " 6   Transmission Type  11914 non-null  object \n",
            " 7   Driven_Wheels      11914 non-null  object \n",
            " 8   Number of Doors    11908 non-null  float64\n",
            " 9   Market Category    8172 non-null   object \n",
            " 10  Vehicle Size       11914 non-null  object \n",
            " 11  Vehicle Style      11914 non-null  object \n",
            " 12  highway MPG        11914 non-null  int64  \n",
            " 13  city mpg           11914 non-null  int64  \n",
            " 14  Popularity         11914 non-null  int64  \n",
            " 15  MSRP               11914 non-null  int64  \n",
            "dtypes: float64(3), int64(5), object(8)\n",
            "memory usage: 1.5+ MB\n",
            "None\n",
            "  Make       Model  Year             Engine Fuel Type  Engine HP  \\\n",
            "0  BMW  1 Series M  2011  premium unleaded (required)      335.0   \n",
            "1  BMW    1 Series  2011  premium unleaded (required)      300.0   \n",
            "2  BMW    1 Series  2011  premium unleaded (required)      300.0   \n",
            "3  BMW    1 Series  2011  premium unleaded (required)      230.0   \n",
            "4  BMW    1 Series  2011  premium unleaded (required)      230.0   \n",
            "\n",
            "   Engine Cylinders Transmission Type     Driven_Wheels  Number of Doors  \\\n",
            "0               6.0            MANUAL  rear wheel drive              2.0   \n",
            "1               6.0            MANUAL  rear wheel drive              2.0   \n",
            "2               6.0            MANUAL  rear wheel drive              2.0   \n",
            "3               6.0            MANUAL  rear wheel drive              2.0   \n",
            "4               6.0            MANUAL  rear wheel drive              2.0   \n",
            "\n",
            "                         Market Category Vehicle Size Vehicle Style  \\\n",
            "0  Factory Tuner,Luxury,High-Performance      Compact         Coupe   \n",
            "1                     Luxury,Performance      Compact   Convertible   \n",
            "2                Luxury,High-Performance      Compact         Coupe   \n",
            "3                     Luxury,Performance      Compact         Coupe   \n",
            "4                                 Luxury      Compact   Convertible   \n",
            "\n",
            "   highway MPG  city mpg  Popularity   MSRP  \n",
            "0           26        19        3916  46135  \n",
            "1           28        19        3916  40650  \n",
            "2           28        20        3916  36350  \n",
            "3           28        18        3916  29450  \n",
            "4           28        18        3916  34500  \n",
            "Make                    0\n",
            "Model                   0\n",
            "Year                    0\n",
            "Engine Fuel Type        3\n",
            "Engine HP              69\n",
            "Engine Cylinders       30\n",
            "Transmission Type       0\n",
            "Driven_Wheels           0\n",
            "Number of Doors         6\n",
            "Market Category      3742\n",
            "Vehicle Size            0\n",
            "Vehicle Style           0\n",
            "highway MPG             0\n",
            "city mpg                0\n",
            "Popularity              0\n",
            "MSRP                    0\n",
            "dtype: int64\n",
            "عدد الصفوف المكررة: 715\n"
          ]
        },
        {
          "output_type": "stream",
          "name": "stderr",
          "text": [
            "<ipython-input-3-4439640ebcd1>:29: FutureWarning: DataFrame.fillna with 'method' is deprecated and will raise in a future version. Use obj.ffill() or obj.bfill() instead.\n",
            "  df.fillna(method='ffill', inplace=True)\n"
          ]
        }
      ],
      "source": [
        "\n",
        "\n",
        "# إعداد بيانات Git\n",
        "!git config --global user.name \"Raed11998\"\n",
        "!git config --global user.email \"eng.raed.salh@gmail.com\"\n",
        "\n",
        "# استنساخ المستودع (سيُطلب منك التوكين بعد الضغط على Enter)\n",
        "!git clone https://github.com/Raed11998/Task2/.git\n",
        "import pandas as pd\n",
        "\n",
        "from google.colab import files\n",
        "#uploaded=files.upload()\n",
        "#print(uploaded)\n",
        "\n",
        "\n",
        "\n",
        "# قراءة البيانات\n",
        "df = pd.read_csv('/data.csv.zip')  # غيّر الاسم حسب اسم الملف يلي نزلته\n",
        "\n",
        "# نظرة عامة\n",
        "print(df.shape)\n",
        "print(df.info())\n",
        "print(df.head())\n",
        "\n",
        "# القيم الناقصة والمكررة\n",
        "print(df.isnull().sum())\n",
        "print(f\"عدد الصفوف المكررة: {df.duplicated().sum()}\")\n",
        "\n",
        "# التنظيف\n",
        "df.drop_duplicates(inplace=True)\n",
        "df.fillna(method='ffill', inplace=True)\n",
        "df['Make'] = df['Make'].astype(str)  # غيّر حسب العمود المناسب\n",
        "\n",
        "# حفظ الملف بعد التنظيف\n",
        "df.to_csv('cleaned_data.csv', index=False)"
      ]
    }
  ]
}